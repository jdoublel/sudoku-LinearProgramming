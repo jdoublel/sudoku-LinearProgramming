{
 "cells": [
  {
   "cell_type": "code",
   "execution_count": 26,
   "metadata": {},
   "outputs": [
    {
     "name": "stdout",
     "output_type": "stream",
     "text": [
      "data set legnth: 24\n",
      "0    0800320017030800025000070300500019706007090080...\n",
      "1    0000090070600008007890623504306005900905080200...\n",
      "2    9004010070475080000107004080021000033090002064...\n",
      "3    1000002030780264013401070000500028060800000106...\n",
      "4    6002004000150000200241000031020903050305010605...\n",
      "Name: quizzes, dtype: object\n",
      "0    4895327617134865925629178342583419766317592489...\n",
      "1    3518492672647538197891623544326715986975384215...\n",
      "2    9284615376475381295137924688721569433598472164...\n",
      "3    1654982739783264513421576984579128362896437156...\n",
      "4    6732854918159347269241765831628973454385219675...\n",
      "Name: solutions, dtype: object\n"
     ]
    }
   ],
   "source": [
    "import numpy as np # linear algebra\n",
    "import pandas as pd # data processing, CSV file I/O (e.g. pd.read_csv)\n",
    "import scipy.sparse as scs # sparse matrix construction \n",
    "import scipy.linalg as scl # linear algebra algorithms\n",
    "import scipy.optimize as sco # for minimization use\n",
    "import matplotlib.pylab as plt # for visualization\n",
    "from scipy.optimize import linprog\n",
    "import math\n",
    "import os\n",
    "\n",
    "data = pd.read_csv(\"~/Desktop/Math 110B/project1/archive/small1.csv\") \n",
    "print('data set legnth:', len(data))\n",
    "print(data[\"quizzes\"][0:5])\n",
    "print(data[\"solutions\"][0:5])"
   ]
  },
  {
   "cell_type": "code",
   "execution_count": 27,
   "metadata": {},
   "outputs": [
    {
     "data": {
      "text/plain": [
       "array([[0, 8, 0, 0, 3, 2, 0, 0, 1],\n",
       "       [7, 0, 3, 0, 8, 0, 0, 0, 2],\n",
       "       [5, 0, 0, 0, 0, 7, 0, 3, 0],\n",
       "       [0, 5, 0, 0, 0, 1, 9, 7, 0],\n",
       "       [6, 0, 0, 7, 0, 9, 0, 0, 8],\n",
       "       [0, 4, 7, 2, 0, 0, 0, 5, 0],\n",
       "       [0, 2, 0, 6, 0, 0, 0, 0, 9],\n",
       "       [8, 0, 0, 0, 9, 0, 3, 0, 5],\n",
       "       [3, 0, 0, 8, 2, 0, 0, 1, 0]])"
      ]
     },
     "execution_count": 27,
     "metadata": {},
     "output_type": "execute_result"
    }
   ],
   "source": [
    "quiz = data[\"quizzes\"][0]\n",
    "np.reshape([int(c) for c in quiz], (9,9))"
   ]
  },
  {
   "cell_type": "code",
   "execution_count": 28,
   "metadata": {},
   "outputs": [],
   "source": [
    "def fixed_constraints(N=9):\n",
    "    rowC = np.zeros(N)\n",
    "    rowC[0] =1\n",
    "    rowR = np.zeros(N)\n",
    "    rowR[0] =1\n",
    "    row = scl.toeplitz(rowC, rowR)\n",
    "    ROW = np.kron(row, np.kron(np.ones((1,N)), np.eye(N)))\n",
    "    \n",
    "    colR = np.kron(np.ones((1,N)), rowC)\n",
    "    col  = scl.toeplitz(rowC, colR)\n",
    "    COL  = np.kron(col, np.eye(N))\n",
    "    \n",
    "    M = int(np.sqrt(N))\n",
    "    boxC = np.zeros(M)\n",
    "    boxC[0]=1\n",
    "    boxR = np.kron(np.ones((1, M)), boxC) \n",
    "    box = scl.toeplitz(boxC, boxR)\n",
    "    box = np.kron(np.eye(M), box)\n",
    "    BOX = np.kron(box, np.block([np.eye(N), np.eye(N) ,np.eye(N)]))\n",
    "    \n",
    "    cell = np.eye(N**2)\n",
    "    CELL = np.kron(cell, np.ones((1,N)))\n",
    "    \n",
    "    return scs.csr_matrix(np.block([[ROW],[COL],[BOX],[CELL]]))"
   ]
  },
  {
   "cell_type": "code",
   "execution_count": 29,
   "metadata": {},
   "outputs": [
    {
     "data": {
      "text/plain": [
       "<matplotlib.lines.Line2D at 0x121788550>"
      ]
     },
     "execution_count": 29,
     "metadata": {},
     "output_type": "execute_result"
    },
    {
     "data": {
      "image/png": "[encoded data removed]",
      "text/plain": [
       "<Figure size 432x288 with 1 Axes>"
      ]
     },
     "metadata": {
      "needs_background": "light"
     },
     "output_type": "display_data"
    }
   ],
   "source": [
    "A0 = fixed_constraints()\n",
    "plt.spy(A0, markersize=0.2)"
   ]
  },
  {
   "cell_type": "code",
   "execution_count": 30,
   "metadata": {},
   "outputs": [],
   "source": [
    "def clue_constraint(input_quiz, N=9):\n",
    "    m = np.reshape([int(c) for c in input_quiz], (N,N))\n",
    "    r, c = np.where(m.T)\n",
    "    v = np.array([m[c[d],r[d]] for d in range(len(r))])\n",
    "    \n",
    "    table = N * c + r\n",
    "    table = np.block([[table],[v-1]])\n",
    "    \n",
    "    # it is faster to use lil_matrix when changing the sparse structure.\n",
    "    CLUE = scs.lil_matrix((len(table.T), N**3))\n",
    "    for i in range(len(table.T)):\n",
    "        CLUE[i,table[0,i]*N + table[1,i]] = 1\n",
    "    # change back to csr_matrix.\n",
    "    CLUE = CLUE.tocsr() \n",
    "    \n",
    "    return CLUE"
   ]
  },
  {
   "cell_type": "code",
   "execution_count": 32,
   "metadata": {
    "scrolled": false
   },
   "outputs": [
    {
     "name": "stdout",
     "output_type": "stream",
     "text": [
      "Aver Time:   0.32 secs. Success rate: 5 / 5 \n",
      "Aver Time:   0.32 secs. Success rate: 10 / 10 \n",
      "Aver Time:   0.32 secs. Success rate: 15 / 15 \n",
      "Aver Time:   0.31 secs. Success rate: 20 / 20 \n",
      "Aver Time:   0.31 secs. Success rate: 24 / 24 \n"
     ]
    }
   ],
   "source": [
    "import time\n",
    "from scipy.linalg import LinAlgWarning\n",
    "corr_cnt = 0\n",
    "start = time.time()\n",
    "for i in range(len(data)):\n",
    "    quiz = data[\"quizzes\"][i]\n",
    "    solu = data[\"solutions\"][i]\n",
    "    A0 = fixed_constraints()\n",
    "    A1 = clue_constraint(quiz)\n",
    "    A = scs.vstack((A0,A1)).toarray()\n",
    "    B = np.ones((np.size(A, 0)))\n",
    "    u, s, vh = np.linalg.svd(A, full_matrices=False)\n",
    "    K = np.sum(s > 1e-12)\n",
    "    S_ = np.block([np.diag(s[:K]), np.zeros((K, A.shape[0]-K))])\n",
    "    A = S_@vh\n",
    "    B = u.T@B\n",
    "    B = B[:K]\n",
    "    c = np.block([ np.ones(A.shape[1]), np.ones(A.shape[1]) ])\n",
    "    G = np.block([[-np.eye(A.shape[1]), np.zeros((A.shape[1], A.shape[1]))],\\\n",
    "                   [np.zeros((A.shape[1], A.shape[1])), -np.eye(A.shape[1])]])\n",
    "    h = np.zeros(A.shape[1]*2)\n",
    "    H = np.block([A, -A])\n",
    "    b = B\n",
    "    res = linprog(c, G, h, H, b, options = {'cholesky': False, 'sym_pos':False})\n",
    "    X = np.array(res.x)\n",
    "    x = X[:A.shape[1]] - X[A.shape[1]:]\n",
    "        # map to board\n",
    "    z = np.reshape(x, (81, 9))   \n",
    "    if np.linalg.norm(np.reshape(np.array([np.argmax(d)+1 for d in z]), (9,9) ) \\\n",
    "                - np.reshape([int(c) for c in solu], (9,9)), np.inf) >0:\n",
    "        pass\n",
    "    else:\n",
    "        #print(\"CORRECT\")\n",
    "        corr_cnt += 1\n",
    "    if (i+1) % 5 == 0:\n",
    "        end = time.time()\n",
    "        print(\"Aver Time: {t:6.2f} secs. Success rate: {corr} / {all} \".format(t=(end-start)/(i+1), corr=corr_cnt, all=i+1) )\n",
    "\n",
    "end = time.time()\n",
    "print(\"Aver Time: {t:6.2f} secs. Success rate: {corr} / {all} \".format(t=(end-start)/(i+1), corr=corr_cnt, all=i+1) )"
   ]
  },
  {
   "cell_type": "code",
   "execution_count": null,
   "metadata": {},
   "outputs": [],
   "source": []
  }
 ],
 "metadata": {
  "kernelspec": {
   "display_name": "Python 3",
   "language": "python",
   "name": "python3"
  },
  "language_info": {
   "codemirror_mode": {
    "name": "ipython",
    "version": 3
   },
   "file_extension": ".py",
   "mimetype": "text/x-python",
   "name": "python",
   "nbconvert_exporter": "python",
   "pygments_lexer": "ipython3",
   "version": "3.8.5"
  }
 },
 "nbformat": 4,
 "nbformat_minor": 4
}
